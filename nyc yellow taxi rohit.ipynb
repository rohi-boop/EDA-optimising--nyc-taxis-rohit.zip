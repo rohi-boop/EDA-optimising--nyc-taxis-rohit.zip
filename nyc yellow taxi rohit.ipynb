{
 "cells": [
  {
   "cell_type": "code",
   "execution_count": null,
   "id": "56146bfc-6df7-497c-a31a-b2d82e058b1d",
   "metadata": {},
   "outputs": [],
   "source": [
    "import pandas as pd,numpy as np\n",
    "import matplotlib.pyplot as plt,seaborn as sns\n",
    "import scipy.stats as stats\n",
    "%matplotlib inline"
   ]
  },
  {
   "cell_type": "code",
   "execution_count": null,
   "id": "774de338-90fc-4888-8af6-680f11ea7c01",
   "metadata": {},
   "outputs": [],
   "source": [
    "import warnings\n",
    "warnings.filterwarnings('ignore')"
   ]
  },
  {
   "cell_type": "code",
   "execution_count": null,
   "id": "7fdc2d15-a5e2-4e18-aaaa-9de997eaf576",
   "metadata": {},
   "outputs": [],
   "source": [
    "np.random.seed(42)\n"
   ]
  },
  {
   "cell_type": "code",
   "execution_count": null,
   "id": "7df0abba-9f22-4070-9023-c9da17c258d8",
   "metadata": {},
   "outputs": [],
   "source": [
    "df= pd.read_parquet(r\"C:\\Users\\ROHIT\\Documents\\class noyts\\Datasets and Dictionary\\trip_records\\2023-3.parquet\")\n",
    "df.head()"
   ]
  },
  {
   "cell_type": "code",
   "execution_count": null,
   "id": "499b0708-cdfa-4f72-b8fe-de06e6f8d157",
   "metadata": {},
   "outputs": [],
   "source": [
    "df.shape"
   ]
  },
  {
   "cell_type": "code",
   "execution_count": null,
   "id": "3512fc6f-4b87-40c4-b396-57415d7e720a",
   "metadata": {},
   "outputs": [],
   "source": [
    "sample=hour_data.sample(frac=0.05,random_state=42)"
   ]
  },
  {
   "cell_type": "code",
   "execution_count": null,
   "id": "a3a65738-dfef-46ab-9bdb-bf7dc7f2682f",
   "metadata": {},
   "outputs": [],
   "source": [
    "df.info()\n"
   ]
  },
  {
   "cell_type": "code",
   "execution_count": null,
   "id": "34265311-5423-4420-8697-6c7561130019",
   "metadata": {},
   "outputs": [],
   "source": [
    "100*df.isnull().mean()"
   ]
  },
  {
   "cell_type": "code",
   "execution_count": null,
   "id": "7217ce54-1946-41c9-a091-a26adf0f64f5",
   "metadata": {},
   "outputs": [],
   "source": [
    "df['store_and_fwd_flag'].nunique()\n"
   ]
  },
  {
   "cell_type": "code",
   "execution_count": null,
   "id": "43c6ef63-00ff-45f6-a857-ad245575e555",
   "metadata": {},
   "outputs": [],
   "source": [
    "df['RatecodeID'].unique()"
   ]
  },
  {
   "cell_type": "code",
   "execution_count": null,
   "id": "7ed7ca9f-7418-4f77-9ec4-39289e5a9a8b",
   "metadata": {},
   "outputs": [],
   "source": [
    "## in this Ratecode id  colume we replace the nan values by 'zeros'"
   ]
  },
  {
   "cell_type": "code",
   "execution_count": null,
   "id": "4c91c82f-6474-49a7-86c9-a958ffce5887",
   "metadata": {},
   "outputs": [],
   "source": [
    "df.loc[df['RatecodeID']== 'nan','RatecodeID']='0.0'"
   ]
  },
  {
   "cell_type": "code",
   "execution_count": null,
   "id": "df480008-d206-478c-a5d5-04966b550146",
   "metadata": {},
   "outputs": [],
   "source": [
    "## in this dataset we observed that store_and_fwd_flag has one the most missing values coulmes, so we drop that colume"
   ]
  },
  {
   "cell_type": "code",
   "execution_count": null,
   "id": "1f48a370-da63-41bb-bccb-e71539f2dc00",
   "metadata": {},
   "outputs": [],
   "source": [
    "df=df.drop('store_and_fwd_flag',axis=1)"
   ]
  },
  {
   "cell_type": "code",
   "execution_count": 133,
   "id": "c699c50e-51d2-4094-9f7e-a8ac7883a14b",
   "metadata": {},
   "outputs": [
    {
     "data": {
      "text/html": [
       "<div>\n",
       "<style scoped>\n",
       "    .dataframe tbody tr th:only-of-type {\n",
       "        vertical-align: middle;\n",
       "    }\n",
       "\n",
       "    .dataframe tbody tr th {\n",
       "        vertical-align: top;\n",
       "    }\n",
       "\n",
       "    .dataframe thead th {\n",
       "        text-align: right;\n",
       "    }\n",
       "</style>\n",
       "<table border=\"1\" class=\"dataframe\">\n",
       "  <thead>\n",
       "    <tr style=\"text-align: right;\">\n",
       "      <th></th>\n",
       "      <th>VendorID</th>\n",
       "      <th>tpep_pickup_datetime</th>\n",
       "      <th>tpep_dropoff_datetime</th>\n",
       "      <th>passenger_count</th>\n",
       "      <th>trip_distance</th>\n",
       "      <th>RatecodeID</th>\n",
       "      <th>PULocationID</th>\n",
       "      <th>DOLocationID</th>\n",
       "      <th>payment_type</th>\n",
       "      <th>fare_amount</th>\n",
       "      <th>extra</th>\n",
       "      <th>mta_tax</th>\n",
       "      <th>tip_amount</th>\n",
       "      <th>tolls_amount</th>\n",
       "      <th>improvement_surcharge</th>\n",
       "      <th>total_amount</th>\n",
       "      <th>congestion_surcharge</th>\n",
       "      <th>Airport_fee</th>\n",
       "    </tr>\n",
       "  </thead>\n",
       "  <tbody>\n",
       "    <tr>\n",
       "      <th>0</th>\n",
       "      <td>1</td>\n",
       "      <td>2023-06-01 00:08:48</td>\n",
       "      <td>2023-06-01 00:29:41</td>\n",
       "      <td>1.0</td>\n",
       "      <td>3.4</td>\n",
       "      <td>1.0</td>\n",
       "      <td>140</td>\n",
       "      <td>238</td>\n",
       "      <td>1</td>\n",
       "      <td>21.9</td>\n",
       "      <td>3.5</td>\n",
       "      <td>0.5</td>\n",
       "      <td>6.7</td>\n",
       "      <td>0.0</td>\n",
       "      <td>1.0</td>\n",
       "      <td>33.6</td>\n",
       "      <td>2.5</td>\n",
       "      <td>0.0</td>\n",
       "    </tr>\n",
       "    <tr>\n",
       "      <th>1</th>\n",
       "      <td>1</td>\n",
       "      <td>2023-06-01 00:15:04</td>\n",
       "      <td>2023-06-01 00:25:18</td>\n",
       "      <td>0.0</td>\n",
       "      <td>3.4</td>\n",
       "      <td>1.0</td>\n",
       "      <td>50</td>\n",
       "      <td>151</td>\n",
       "      <td>1</td>\n",
       "      <td>15.6</td>\n",
       "      <td>3.5</td>\n",
       "      <td>0.5</td>\n",
       "      <td>3.0</td>\n",
       "      <td>0.0</td>\n",
       "      <td>1.0</td>\n",
       "      <td>23.6</td>\n",
       "      <td>2.5</td>\n",
       "      <td>0.0</td>\n",
       "    </tr>\n",
       "  </tbody>\n",
       "</table>\n",
       "</div>"
      ],
      "text/plain": [
       "   VendorID tpep_pickup_datetime tpep_dropoff_datetime  passenger_count  \\\n",
       "0         1  2023-06-01 00:08:48   2023-06-01 00:29:41              1.0   \n",
       "1         1  2023-06-01 00:15:04   2023-06-01 00:25:18              0.0   \n",
       "\n",
       "   trip_distance RatecodeID  PULocationID  DOLocationID  payment_type  \\\n",
       "0            3.4        1.0           140           238             1   \n",
       "1            3.4        1.0            50           151             1   \n",
       "\n",
       "   fare_amount  extra  mta_tax  tip_amount  tolls_amount  \\\n",
       "0         21.9    3.5      0.5         6.7           0.0   \n",
       "1         15.6    3.5      0.5         3.0           0.0   \n",
       "\n",
       "   improvement_surcharge  total_amount  congestion_surcharge Airport_fee  \n",
       "0                    1.0          33.6                   2.5         0.0  \n",
       "1                    1.0          23.6                   2.5         0.0  "
      ]
     },
     "execution_count": 133,
     "metadata": {},
     "output_type": "execute_result"
    }
   ],
   "source": [
    "df.head(2)"
   ]
  },
  {
   "cell_type": "code",
   "execution_count": null,
   "id": "86723def-0120-4d94-9769-025d33eba359",
   "metadata": {},
   "outputs": [],
   "source": [
    "df['Airport_fee'].unique()"
   ]
  },
  {
   "cell_type": "code",
   "execution_count": null,
   "id": "b07d74a4-f9be-4c4d-95ff-1b4790e3ba48",
   "metadata": {},
   "outputs": [],
   "source": [
    "## in 'Airport_fee' we observed that $1.25 for pick up only at LaGuardia and John F. Kennedy Airports. so we extrack those values only. \n",
    "## before that we will transfrom '1.75' value in 2 and '-1.75' in 1 \n"
   ]
  },
  {
   "cell_type": "code",
   "execution_count": null,
   "id": "ad810f87-0417-45b4-a391-65d6bccf9680",
   "metadata": {},
   "outputs": [],
   "source": [
    "df.loc[df['Airport_fee']== '1.75','Airport_fee']='2'"
   ]
  },
  {
   "cell_type": "code",
   "execution_count": null,
   "id": "a4bdbb02-1204-4578-827b-d3aa61e8bf9a",
   "metadata": {},
   "outputs": [],
   "source": [
    "df.loc[df['Airport_fee']== '-1.75','Airport_fee']='1'"
   ]
  },
  {
   "cell_type": "code",
   "execution_count": null,
   "id": "5cffdce8-54d6-438c-b90f-0d934f4017f4",
   "metadata": {},
   "outputs": [],
   "source": [
    "df.info()"
   ]
  },
  {
   "cell_type": "code",
   "execution_count": null,
   "id": "c214629e-e08e-4440-9ae3-bc8f69065057",
   "metadata": {},
   "outputs": [],
   "source": [
    "## now we perfrom some eda  steps\n"
   ]
  },
  {
   "cell_type": "code",
   "execution_count": null,
   "id": "6b370e1e-3ef6-415c-a1c3-2a64567aead1",
   "metadata": {},
   "outputs": [],
   "source": [
    "df.head(2)"
   ]
  },
  {
   "cell_type": "code",
   "execution_count": null,
   "id": "7340add3-1c1d-4a1d-a5c7-bd3fadc42ddf",
   "metadata": {},
   "outputs": [],
   "source": [
    "df.passenger_count.value_counts()"
   ]
  },
  {
   "cell_type": "code",
   "execution_count": null,
   "id": "f900db8c-771e-4250-9fef-9dde2dcc25e2",
   "metadata": {},
   "outputs": [],
   "source": [
    "df.passenger_count.plot.barh()\n",
    "plt.show()\n"
   ]
  },
  {
   "cell_type": "code",
   "execution_count": 135,
   "id": "c5524149-c977-4a28-be58-0ac728a97c10",
   "metadata": {},
   "outputs": [
    {
     "data": {
      "text/plain": [
       "passenger_count\n",
       "0.0    17.659131\n",
       "1.0    19.517191\n",
       "2.0    22.580120\n",
       "3.0    25.230289\n",
       "4.0    24.185696\n",
       "5.0    19.653579\n",
       "6.0    19.449163\n",
       "7.0    73.883333\n",
       "8.0    84.135417\n",
       "9.0    92.666667\n",
       "Name: fare_amount, dtype: float64"
      ]
     },
     "execution_count": 135,
     "metadata": {},
     "output_type": "execute_result"
    }
   ],
   "source": [
    "df.groupby(['passenger_count'])['fare_amount'].mean()"
   ]
  },
  {
   "cell_type": "code",
   "execution_count": 142,
   "id": "213f41e7-a609-4021-8b38-97dd58f1ac0a",
   "metadata": {},
   "outputs": [
    {
     "data": {
      "image/png": "[encoded data removed]",
      "text/plain": [
       "<Figure size 640x480 with 1 Axes>"
      ]
     },
     "metadata": {},
     "output_type": "display_data"
    }
   ],
   "source": [
    "sns.boxplot(data=df,x='passenger_count',y='fare_amount')\n",
    "plt.show()"
   ]
  },
  {
   "cell_type": "code",
   "execution_count": 146,
   "id": "45388f0d-db55-4f49-b6d6-842ed4c1bf85",
   "metadata": {},
   "outputs": [
    {
     "data": {
      "text/plain": [
       "<function matplotlib.pyplot.show(close=None, block=None)>"
      ]
     },
     "execution_count": 146,
     "metadata": {},
     "output_type": "execute_result"
    }
   ],
   "source": [
    "df.groupby('passenger_count')['fare_amount'].mean().plot.barh()\n",
    "plt.show"
   ]
  },
  {
   "cell_type": "code",
   "execution_count": 163,
   "id": "e6da5a8d-1424-4302-960b-fe9bf0024df7",
   "metadata": {},
   "outputs": [
    {
     "ename": "TypeError",
     "evalue": "pivot_table() got an unexpected keyword argument 'value'",
     "output_type": "error",
     "traceback": [
      "\u001b[1;31m---------------------------------------------------------------------------\u001b[0m",
      "\u001b[1;31mTypeError\u001b[0m                                 Traceback (most recent call last)",
      "Cell \u001b[1;32mIn[163], line 1\u001b[0m\n\u001b[1;32m----> 1\u001b[0m pd\u001b[38;5;241m.\u001b[39mpivot_table(data\u001b[38;5;241m=\u001b[39mdf,index\u001b[38;5;241m=\u001b[39m\u001b[38;5;124m'\u001b[39m\u001b[38;5;124mpassenger_count\u001b[39m\u001b[38;5;124m'\u001b[39m,columns\u001b[38;5;241m=\u001b[39m\u001b[38;5;124m'\u001b[39m\u001b[38;5;124mfare_amount\u001b[39m\u001b[38;5;124m'\u001b[39m,value\u001b[38;5;241m=\u001b[39m\u001b[38;5;124m'\u001b[39m\u001b[38;5;124mAirport_fee\u001b[39m\u001b[38;5;124m'\u001b[39m)\n\u001b[0;32m      2\u001b[0m sns\u001b[38;5;241m.\u001b[39mheatmap()\n",
      "\u001b[1;31mTypeError\u001b[0m: pivot_table() got an unexpected keyword argument 'value'"
     ]
    }
   ],
   "source": [
    "pd.pivot_table(data=df,index='passenger_count',columns='fare_amount',value='Airport_fee')\n",
    "sns.heatmap()"
   ]
  },
  {
   "cell_type": "code",
   "execution_count": null,
   "id": "d6990055-d8b8-49ee-85e9-67cb00ade2ee",
   "metadata": {},
   "outputs": [],
   "source": []
  },
  {
   "cell_type": "code",
   "execution_count": null,
   "id": "7925ff41-6734-4a5e-bb8b-0af1b08ba1fb",
   "metadata": {},
   "outputs": [],
   "source": []
  },
  {
   "cell_type": "code",
   "execution_count": null,
   "id": "5927af2c-dd1d-4176-b7eb-de15088b619e",
   "metadata": {},
   "outputs": [],
   "source": []
  }
 ],
 "metadata": {
  "kernelspec": {
   "display_name": "Python [conda env:base] *",
   "language": "python",
   "name": "conda-base-py"
  },
  "language_info": {
   "codemirror_mode": {
    "name": "ipython",
    "version": 3
   },
   "file_extension": ".py",
   "mimetype": "text/x-python",
   "name": "python",
   "nbconvert_exporter": "python",
   "pygments_lexer": "ipython3",
   "version": "3.12.7"
  }
 },
 "nbformat": 4,
 "nbformat_minor": 5
}
